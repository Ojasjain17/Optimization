{
 "cells": [
  {
   "cell_type": "code",
   "execution_count": 17,
   "metadata": {},
   "outputs": [],
   "source": [
    "import pandas as pd\n",
    "from pandas import DataFrame\n",
    "import numpy as np\n",
    "import math\n",
    "\n",
    "from sklearn.cluster import KMeans\n",
    "from sklearn.preprocessing import LabelEncoder\n",
    "from sklearn.preprocessing import MinMaxScaler\n",
    "import seaborn as sns\n",
    "import matplotlib.pyplot as plt\n",
    "from matplotlib.pyplot import cm"
   ]
  },
  {
   "cell_type": "code",
   "execution_count": 18,
   "metadata": {},
   "outputs": [],
   "source": [
    "p=pd.read_csv('Sample.csv')   #Enter the complete path of the file\n",
    "q=DataFrame(p)  #create a dataframe\n"
   ]
  },
  {
   "cell_type": "code",
   "execution_count": 20,
   "metadata": {},
   "outputs": [],
   "source": [
    "\n",
    "def caly(lat):   #formula to convert lat-long in cartesian co-ordinates\n",
    "    \n",
    "    lat=float(lat)\n",
    "    dy = 6371*(math.log(math.tan(((math.pi)/4)+(lat)*(math.pi)/360)))\n",
    "    return dy\n",
    "    "
   ]
  },
  {
   "cell_type": "code",
   "execution_count": 21,
   "metadata": {},
   "outputs": [],
   "source": [
    "def calx(x):    #formula to convert lat-long in cartesian co-ordinates\n",
    "    x=float(x)\n",
    "    n=6371*x*(math.pi)/180\n",
    "    return n\n",
    "    "
   ]
  },
  {
   "cell_type": "code",
   "execution_count": 22,
   "metadata": {},
   "outputs": [],
   "source": [
    "\n",
    "q['y']=q['Latitude'].apply(caly)"
   ]
  },
  {
   "cell_type": "code",
   "execution_count": 23,
   "metadata": {
    "scrolled": true
   },
   "outputs": [],
   "source": [
    "q['x']=q['Longitude'].apply(calx)"
   ]
  },
  {
   "cell_type": "code",
   "execution_count": 24,
   "metadata": {},
   "outputs": [],
   "source": [
    "def arr(x):     #combine x&y coordinates\n",
    "    a=[]\n",
    "    a.append(x['x'])\n",
    "    a.append(x['y'])\n",
    "    return a\n",
    "    "
   ]
  },
  {
   "cell_type": "code",
   "execution_count": 25,
   "metadata": {},
   "outputs": [],
   "source": [
    "q['coordinates']=q.apply(arr,axis=1)"
   ]
  },
  {
   "cell_type": "code",
   "execution_count": 26,
   "metadata": {},
   "outputs": [
    {
     "data": {
      "text/plain": [
       "<matplotlib.collections.PathCollection at 0x7fbd515ad110>"
      ]
     },
     "execution_count": 26,
     "metadata": {},
     "output_type": "execute_result"
    },
    {
     "data": {
      "image/png": "[encoded data removed]",
      "text/plain": [
       "<Figure size 432x288 with 1 Axes>"
      ]
     },
     "metadata": {
      "needs_background": "light"
     },
     "output_type": "display_data"
    }
   ],
   "source": [
    "plt.scatter(q['x'],q['y'])"
   ]
  },
  {
   "cell_type": "code",
   "execution_count": 27,
   "metadata": {},
   "outputs": [],
   "source": [
    "b=[]                                  #make an array of all the coordinates\n",
    "for i in range(len(q.index)):\n",
    "    b.append(q.loc[i,'coordinates'])\n",
    "    \n"
   ]
  },
  {
   "cell_type": "code",
   "execution_count": 28,
   "metadata": {},
   "outputs": [
    {
     "name": "stdout",
     "output_type": "stream",
     "text": [
      "Please enter a radius:12\n"
     ]
    }
   ],
   "source": [
    "r=input(\"Please enter a radius:-\")"
   ]
  },
  {
   "cell_type": "code",
   "execution_count": 29,
   "metadata": {
    "scrolled": false
   },
   "outputs": [
    {
     "name": "stdout",
     "output_type": "stream",
     "text": [
      "number of centers required=3\n"
     ]
    }
   ],
   "source": [
    "n=1    #set no. of cluster=1\n",
    "\n",
    "while(n<len(q.index)):\n",
    "    flag=1                  #assume all the datapoints lie within the given radius\n",
    "    kmeans = KMeans(n, n_init=10)    #Find the optimum locations of hub \n",
    "    kmeans.fit(b)\n",
    "    labels = kmeans.predict(b)\n",
    "    C = kmeans.cluster_centers_\n",
    "    l=kmeans.transform(b)\n",
    "\n",
    "    for i in range(len(q.index)):\n",
    "        dist=l[i][labels[i]]    #calculate the distance of each hub and corr. village\n",
    "        if dist>r:              \n",
    "            n=n+1 \n",
    "            flag=0           \n",
    "            break\n",
    "\n",
    "    if flag==1:\n",
    "        \n",
    "        print 'number of centers required='+str(n)\n",
    "        break\n",
    "        \n"
   ]
  },
  {
   "cell_type": "code",
   "execution_count": 30,
   "metadata": {},
   "outputs": [],
   "source": [
    "lat=[]   #initialize lat & long matrices\n",
    "lon=[]"
   ]
  },
  {
   "cell_type": "code",
   "execution_count": 31,
   "metadata": {},
   "outputs": [],
   "source": [
    "for i in range(len(C)):\n",
    "    \n",
    "    m=((math.atan(math.exp(C[i][1]/6371)))-(math.pi/4))*(360/math.pi)\n",
    "    n=(C[i][0]/6371)*(180/math.pi)\n",
    "    \n",
    "    lat.append(m)\n",
    "    lon.append(n)"
   ]
  },
  {
   "cell_type": "code",
   "execution_count": 32,
   "metadata": {},
   "outputs": [],
   "source": [
    "alpha=q['x']\n",
    "beta=q['y']"
   ]
  },
  {
   "cell_type": "code",
   "execution_count": 33,
   "metadata": {},
   "outputs": [
    {
     "data": {
      "image/png": "[encoded data removed]",
      "text/plain": [
       "<Figure size 432x288 with 1 Axes>"
      ]
     },
     "metadata": {
      "needs_background": "light"
     },
     "output_type": "display_data"
    }
   ],
   "source": [
    "plt.scatter(alpha,beta,c=labels)\n",
    "color=iter(cm.rainbow(np.linspace(0,1,len(C),endpoint=1)))\n",
    "for i in range(len(C)):\n",
    " \n",
    " c=next(color)\n",
    "\n",
    " plt.scatter(C[i][0],C[i][1],c=c)\n"
   ]
  },
  {
   "cell_type": "code",
   "execution_count": 34,
   "metadata": {},
   "outputs": [],
   "source": [
    "for i in range(len(q.index)):\n",
    "        \n",
    "         q.loc[i,'labels']=labels[i]\n",
    "         j=labels[i]\n",
    "         q.loc[i,'center latitude']=lat[j]\n",
    "         q.loc[i,'center longitude']=lon[j]"
   ]
  },
  {
   "cell_type": "code",
   "execution_count": 35,
   "metadata": {},
   "outputs": [],
   "source": [
    "del q['x'], q['coordinates'], q['y']"
   ]
  },
  {
   "cell_type": "code",
   "execution_count": 36,
   "metadata": {},
   "outputs": [],
   "source": [
    "q.to_csv('final.csv',index=0)"
   ]
  }
 ],
 "metadata": {
  "kernelspec": {
   "display_name": "Python 2",
   "language": "python",
   "name": "python2"
  },
  "language_info": {
   "codemirror_mode": {
    "name": "ipython",
    "version": 2
   },
   "file_extension": ".py",
   "mimetype": "text/x-python",
   "name": "python",
   "nbconvert_exporter": "python",
   "pygments_lexer": "ipython2",
   "version": "2.7.15rc1"
  }
 },
 "nbformat": 4,
 "nbformat_minor": 2
}
